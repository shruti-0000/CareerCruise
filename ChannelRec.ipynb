{
  "nbformat": 4,
  "nbformat_minor": 0,
  "metadata": {
    "colab": {
      "provenance": [],
      "include_colab_link": true
    },
    "kernelspec": {
      "name": "python3",
      "display_name": "Python 3"
    },
    "language_info": {
      "name": "python"
    }
  },
  "cells": [
    {
      "cell_type": "markdown",
      "metadata": {
        "id": "view-in-github",
        "colab_type": "text"
      },
      "source": [
        "<a href=\"https://colab.research.google.com/github/shruti-0000/CareerCruise/blob/main/ChannelRec.ipynb\" target=\"_parent\"><img src=\"https://colab.research.google.com/assets/colab-badge.svg\" alt=\"Open In Colab\"/></a>"
      ]
    },
    {
      "cell_type": "code",
      "execution_count": null,
      "metadata": {
        "colab": {
          "base_uri": "https://localhost:8080/"
        },
        "id": "jxDdGcxDHOqi",
        "outputId": "ee062b0b-9914-4b66-f6d9-db2f66e71776"
      },
      "outputs": [
        {
          "output_type": "stream",
          "name": "stdout",
          "text": [
            "Enter the subject for channel recommendations: NEET\n",
            "Top recommended channel for NEET: https://www.youtube.com/user/khanacademy\n"
          ]
        }
      ],
      "source": [
        "import pandas as pd\n",
        "\n",
        "class Channel:\n",
        "    def __init__(self, name, subject, rating):\n",
        "        self.name = name\n",
        "        self.subject = subject\n",
        "        self.rating = rating\n",
        "\n",
        "class ChannelRecommendationSystem:\n",
        "    def __init__(self, channel_list):\n",
        "        self.channel_list = channel_list\n",
        "\n",
        "    def recommend_top_channel_by_subject(self, subject):\n",
        "        relevant_channels = [channel for channel in self.channel_list if channel.subject == subject]\n",
        "        if not relevant_channels:\n",
        "            return None  # No channels found for the given subject\n",
        "\n",
        "        top_channel = max(relevant_channels, key=lambda x: x.rating)\n",
        "        return top_channel.name\n",
        "\n",
        "# Load data from Excel file\n",
        "def load_channels_from_excel(file_path):\n",
        "    df = pd.read_excel(\"/content/Channel.xlsx\")\n",
        "    channels = [Channel(row['Youtube channel'], row['Course'], row['Rating']) for _, row in df.iterrows()]\n",
        "    return channels\n",
        "\n",
        "# Example usage:\n",
        "excel_file_path = '/content/Channel.xlsx'\n",
        "channels = load_channels_from_excel(excel_file_path)\n",
        "\n",
        "recommendation_system = ChannelRecommendationSystem(channels)\n",
        "\n",
        "subject_input = input(\"Enter the Course for channel recommendations: \")\n",
        "top_channel = recommendation_system.recommend_top_channel_by_subject(subject_input)\n",
        "\n",
        "if top_channel:\n",
        "    print(f\"Top recommended channel for {subject_input}: {top_channel}\")\n",
        "else:\n",
        "    print(f\"No channels found for {subject_input}.\")\n"
      ]
    }
  ]
}