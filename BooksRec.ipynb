{
  "nbformat": 4,
  "nbformat_minor": 0,
  "metadata": {
    "colab": {
      "provenance": [],
      "include_colab_link": true
    },
    "kernelspec": {
      "name": "python3",
      "display_name": "Python 3"
    },
    "language_info": {
      "name": "python"
    }
  },
  "cells": [
    {
      "cell_type": "markdown",
      "metadata": {
        "id": "view-in-github",
        "colab_type": "text"
      },
      "source": [
        "<a href=\"https://colab.research.google.com/github/shruti-0000/CareerCruise/blob/main/BooksRec.ipynb\" target=\"_parent\"><img src=\"https://colab.research.google.com/assets/colab-badge.svg\" alt=\"Open In Colab\"/></a>"
      ]
    },
    {
      "cell_type": "code",
      "execution_count": null,
      "metadata": {
        "colab": {
          "base_uri": "https://localhost:8080/"
        },
        "id": "Sy7Ifo0VFg7c",
        "outputId": "e55b3a8e-440e-4dbf-e0bc-39aaa7fdb58f"
      },
      "outputs": [
        {
          "output_type": "stream",
          "name": "stdout",
          "text": [
            "Enter the subject for book recommendations: Physics\n",
            "Recommended books: ['Understanding Physics by D. C Pandey', 'Concepts of physics (Volumes 1 and 2) by H.C Verma', 'Fundamentals of Physics by Halliday, Resnick & Walker', 'Understanding Physics by Freedman and Young', 'Problems in General Physics by IE Irodov', 'NCERT Textbooks (for Class XI and XII)', 'Problems in Physics by S.S. Krotov', 'The Feynman Lectures on Physics by Feynman,\\xa0Robert B. Leighton, and\\xa0Matthew Sands', 'Objective Physics By DC Pandey', 'Fundamentals of Physics by Halliday,\\xa0Resnick,\\xa0and Walker', 'Concepts of Physics by H.C. Verma', '40 Days of Physics for NEET by S.B. Tripathi', 'The Feynman Lectures on Physics by Richard P. Feynman, Robert B. Leighton, Matthew L. Sand', 'Problems in General Physics by I.E. Irodov']\n"
          ]
        }
      ],
      "source": [
        "import pandas as pd\n",
        "\n",
        "class Book:\n",
        "    def __init__(self, title, subject):\n",
        "        self.title = title\n",
        "        self.subject = subject\n",
        "\n",
        "class BookRecommendationSystem:\n",
        "    def __init__(self, book_list):\n",
        "        self.book_list = book_list\n",
        "\n",
        "    def recommend_books_by_subject(self, subject):\n",
        "        recommended_books = [book.title for book in self.book_list if book.subject == subject]\n",
        "        return recommended_books\n",
        "\n",
        "# Load data from Excel file\n",
        "def load_books_from_excel(file_path):\n",
        "    df = pd.read_excel(\"/content/Boookss.xlsx\")\n",
        "    books = [Book(row['Books'], row['Subject']) for _, row in df.iterrows()]\n",
        "    return books\n",
        "\n",
        "# Example usage:\n",
        "excel_file_path = '\\content\\Boookss.xlsx'\n",
        "books = load_books_from_excel(excel_file_path)\n",
        "\n",
        "recommendation_system = BookRecommendationSystem(books)\n",
        "\n",
        "subject_input = input(\"Enter the subject for book recommendations: \")\n",
        "recommended_books = recommendation_system.recommend_books_by_subject(subject_input)\n",
        "\n",
        "print(\"Recommended books:\", recommended_books)\n"
      ]
    }
  ]
}